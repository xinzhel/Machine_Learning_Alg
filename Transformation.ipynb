{
 "cells": [
  {
   "cell_type": "markdown",
   "metadata": {},
   "source": [
    "# Normalized: \n",
    "$ X_{\\text {scaler}}=\\frac{X-X_{\\text {min}}}{X_{\\max }-X_{\\min }} $  \n",
    "\n",
    "* `Normalizer`\n",
    "\n",
    "# Standardarized: \n",
    "$ X_{\\text {scaler}}=\\frac{X-\\mu}{\\sigma} $\n",
    "\n",
    "* `StandardScaler`\n",
    "\n",
    "# Scaling to a range:    \n",
    "* `MinMaxScaler`(最小最大值标准化)  \n",
    "将数据缩放至给定的最小值与最大值之间，通常是０与１之间  \n",
    "$ X_{\\text {std}}=\\frac{X-X_{\\text {min}}}{X_{\\max }-X_{\\min }} $  \n",
    "$ X_{\\text {scaler}} = \\frac{X_{\\text {std}}}{X_{\\max }-X_{\\min }} + X_{\\min } $\n",
    "\n",
    "\n",
    "* `MaxAbsScaler`(绝对值最大标准化)  \n",
    "通过除以最大值将训练集缩放至[-1,1]。这意味着数据已经以０为中心或者是含有非常非常多０的稀疏数据  \n",
    "$ X_{\\text {std}}=\\frac{X-X_{\\text {min}}}{X_{\\max }-X_{\\min }} $  \n",
    "    $ X_{\\text {scaler}} = \\frac{X_{\\text {std}}}{X_{\\max}} $  \n",
    "\n",
    "\n"
   ]
  }
 ],
 "metadata": {
  "kernelspec": {
   "display_name": "Python 3",
   "language": "python",
   "name": "python3"
  },
  "language_info": {
   "codemirror_mode": {
    "name": "ipython",
    "version": 3
   },
   "file_extension": ".py",
   "mimetype": "text/x-python",
   "name": "python",
   "nbconvert_exporter": "python",
   "pygments_lexer": "ipython3",
   "version": "3.6.7"
  }
 },
 "nbformat": 4,
 "nbformat_minor": 2
}
