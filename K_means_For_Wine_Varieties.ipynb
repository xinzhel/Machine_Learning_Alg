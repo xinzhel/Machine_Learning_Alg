{
 "cells": [
  {
   "cell_type": "markdown",
   "metadata": {},
   "source": [
    "# Generate model"
   ]
  },
  {
   "cell_type": "markdown",
   "metadata": {},
   "source": [
    "**Aim**: Use k_means to cluster the Piedmont wines dataset.  \n",
    "**Dataset Description**: There are 178 samples from 3 distinct varieties of Piedmont wine(Barolo, Grignolino and Barbera). Features measures chemical composition e.g. alcohol content and also visual properties like \"color intensity\". See [more](https://archive.ics.uci.edu/ml/datasets/wine).  \n",
    "**important concept**:\n",
    "* k-means: an clustering algorithm that attempts to minimise the inertia when choosing clustering.  \n",
    "* Inertia: distance from each sample to centroid of its cluster."
   ]
  },
  {
   "cell_type": "code",
   "execution_count": 48,
   "metadata": {},
   "outputs": [],
   "source": [
    "# Import the required packages\n",
    "import pandas as pd\n",
    "from matplotlib import pyplot as plt\n",
    "from sklearn.cluster import KMeans\n",
    "from sklearn.preprocessing import StandardScaler\n",
    "from sklearn.pipeline import make_pipeline\n",
    "from sklearn import datasets"
   ]
  },
  {
   "cell_type": "code",
   "execution_count": 56,
   "metadata": {},
   "outputs": [],
   "source": [
    "wine = datasets.load_wine()\n",
    "data = wine.data\n",
    "variety = wine.target"
   ]
  },
  {
   "cell_type": "markdown",
   "metadata": {},
   "source": [
    "**Problem**: How to choose the number of clusters for k_means?  \n",
    "**Analysis**: The aim of the algorithm is to minimise the inertia. We can easily guess that the inertia always decreases when the number of clusters increase. To prove it, we can plot the line chart between inertia and the number of clusters."
   ]
  },
  {
   "cell_type": "code",
   "execution_count": 57,
   "metadata": {},
   "outputs": [
    {
     "data": {
      "image/png": "[encoded data removed]",
      "text/plain": [
       "<Figure size 432x288 with 1 Axes>"
      ]
     },
     "metadata": {
      "needs_background": "light"
     },
     "output_type": "display_data"
    }
   ],
   "source": [
    "ks = range(1, 6)\n",
    "inertias = []\n",
    "\n",
    "for k in ks:\n",
    "    # Create a KMeans instance with k clusters: model\n",
    "    model = KMeans(n_clusters=k)\n",
    "    \n",
    "    # Fit model to samples\n",
    "    model.fit(data)\n",
    "    \n",
    "    # Append the inertia to the list of inertias\n",
    "    inertias.append(model.inertia_)\n",
    "    \n",
    "# Plot ks vs inertias\n",
    "plt.plot(ks, inertias, '-o')\n",
    "plt.xlabel('number of clusters, k')\n",
    "plt.ylabel('inertia')\n",
    "plt.xticks(ks)\n",
    "plt.show()"
   ]
  },
  {
   "cell_type": "markdown",
   "metadata": {},
   "source": [
    "That is exactly what I want!!!  "
   ]
  },
  {
   "cell_type": "markdown",
   "metadata": {},
   "source": [
    "**Problem now**: Consider trade-off between low inertia and the number of clusters.  **Think about it!!!**  \n",
    "**Answer**: Choose an \"elbow\" where inertia begins to decrease more slowly in the inertia plot"
   ]
  },
  {
   "cell_type": "code",
   "execution_count": 37,
   "metadata": {},
   "outputs": [
    {
     "data": {
      "text/plain": [
       "KMeans(algorithm='auto', copy_x=True, init='k-means++', max_iter=300,\n",
       "       n_clusters=3, n_init=10, n_jobs=None, precompute_distances='auto',\n",
       "       random_state=None, tol=0.0001, verbose=0)"
      ]
     },
     "execution_count": 37,
     "metadata": {},
     "output_type": "execute_result"
    }
   ],
   "source": [
    "model = KMeans(n_clusters = 3)\n",
    "model.fit(data)"
   ]
  },
  {
   "cell_type": "markdown",
   "metadata": {},
   "source": [
    "# Measurement"
   ]
  },
  {
   "cell_type": "markdown",
   "metadata": {},
   "source": [
    "If we have information about target variable, use crosstable."
   ]
  },
  {
   "cell_type": "code",
   "execution_count": 59,
   "metadata": {},
   "outputs": [
    {
     "name": "stdout",
     "output_type": "stream",
     "text": [
      "variety   0   1   2\n",
      "labels             \n",
      "0         1  20  27\n",
      "1        20   0   0\n",
      "2        26   1   0\n",
      "3         0  45  12\n",
      "4        12   5   9\n"
     ]
    }
   ],
   "source": [
    "labels = model.predict(data)\n",
    "df = pd.DataFrame({'labels': labels, 'variety': variety})\n",
    "ct = pd.crosstab(df['labels'], df['variety'])\n",
    "print(ct)"
   ]
  },
  {
   "cell_type": "markdown",
   "metadata": {},
   "source": [
    "If we have no information about target variable, measure clustering quality by inertia.  "
   ]
  },
  {
   "cell_type": "code",
   "execution_count": 40,
   "metadata": {},
   "outputs": [
    {
     "name": "stdout",
     "output_type": "stream",
     "text": [
      "2370689.686782968\n"
     ]
    }
   ],
   "source": [
    "print(model.inertia_)"
   ]
  },
  {
   "cell_type": "markdown",
   "metadata": {},
   "source": [
    "# Transform Features"
   ]
  },
  {
   "cell_type": "markdown",
   "metadata": {},
   "source": [
    "**Probelm**: In k_means, the feature variance corresponds to the influence of features. In wine dataset, since the features have very different variances(spread of its values), the features need to be transformed to have equal variance.  \n",
    "**Solution**: In python, we can use `StandardScaler` to transform each feature to have mean 0 and variance 1. Indeed, each features(i.i.d) has a standard normal distribution. So the features are said to be \"standardized\".  \n",
    "**Important Concepts**: \n",
    "* standardized  \n",
    "\n",
    "**Tips**:\n",
    "* Transformation is one of preprocessing steps.\n",
    "* `StandardScaler` is just one of transformation methods methods. See [more](http://127.0.0.1:4000/jekyll/transformation.html).  "
   ]
  },
  {
   "cell_type": "code",
   "execution_count": 47,
   "metadata": {},
   "outputs": [],
   "source": [
    "# standardize features\n",
    "scaler = StandardScaler()\n",
    "scaler.fit(data)\n",
    "data_scaled = scaler.transform(data)"
   ]
  },
  {
   "cell_type": "markdown",
   "metadata": {},
   "source": [
    "Now, use pipelines to combine multiple steps, do it from begining."
   ]
  },
  {
   "cell_type": "code",
   "execution_count": 60,
   "metadata": {},
   "outputs": [
    {
     "name": "stdout",
     "output_type": "stream",
     "text": [
      "variety   0   1   2\n",
      "labels             \n",
      "0         0   3  48\n",
      "1        59   3   0\n",
      "2         0  65   0\n"
     ]
    }
   ],
   "source": [
    "kmeans = KMeans(n_clusters = 3)\n",
    "pipeline = make_pipeline(scaler, kmeans)\n",
    "pipeline.fit(data)\n",
    "labels = pipeline.predict(data)\n",
    "\n",
    "df = pd.DataFrame({'labels': labels, 'variety': species})\n",
    "ct = pd.crosstab(df['labels'], df['variety'])\n",
    "print(ct)"
   ]
  },
  {
   "cell_type": "markdown",
   "metadata": {},
   "source": [
    "Yep! It is better than the previous model."
   ]
  }
 ],
 "metadata": {
  "kernelspec": {
   "display_name": "Python 3",
   "language": "python",
   "name": "python3"
  },
  "language_info": {
   "codemirror_mode": {
    "name": "ipython",
    "version": 3
   },
   "file_extension": ".py",
   "mimetype": "text/x-python",
   "name": "python",
   "nbconvert_exporter": "python",
   "pygments_lexer": "ipython3",
   "version": "3.6.7"
  }
 },
 "nbformat": 4,
 "nbformat_minor": 2
}
